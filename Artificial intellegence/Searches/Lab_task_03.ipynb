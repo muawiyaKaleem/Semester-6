{
 "cells": [
  {
   "cell_type": "markdown",
   "metadata": {},
   "source": [
    "### Breath First Search"
   ]
  },
  {
   "cell_type": "code",
   "execution_count": null,
   "metadata": {},
   "outputs": [],
   "source": [
    "import networkx as nx\n",
    "from collections import deque\n",
    "\n",
    "def bfs(graph,start,goal):\n",
    "    queue = deque([(start,[start])])\n",
    "    visited = set()\n",
    "    \n",
    "    while queue:\n",
    "        node,path = queue.popleft()\n",
    "        if node == goal:\n",
    "            return path\n",
    "        visited.add(node)\n",
    "        \n",
    "        for i in graph.neighbors(node):\n",
    "            if i not in visited:\n",
    "                queue.append((i , path + [i]))\n",
    "\n",
    "graph = nx.Graph()\n",
    "graph.add_edges_from([(0,1),(0,2),(1,2),(2,3),(3,4)])\n",
    "\n",
    "nx.draw(graph,with_labels = True,node_color = 'green',node_size = 1000, font_weight = 'bold')\n",
    "\n",
    "start = int(input(\"Enter your start value: \"))\n",
    "goal = int(input(\"Enter your goal value: \"))\n",
    "path = bfs(graph,start,goal)\n",
    "\n",
    "\n",
    "if path:\n",
    "    print(f'start {start}, goal {goal} ,path is: {path}')\n",
    "else:\n",
    "    print(\"No path found\")"
   ]
  }
 ],
 "metadata": {
  "kernelspec": {
   "display_name": "base",
   "language": "python",
   "name": "python3"
  },
  "language_info": {
   "codemirror_mode": {
    "name": "ipython",
    "version": 3
   },
   "file_extension": ".py",
   "mimetype": "text/x-python",
   "name": "python",
   "nbconvert_exporter": "python",
   "pygments_lexer": "ipython3",
   "version": "3.11.5"
  }
 },
 "nbformat": 4,
 "nbformat_minor": 2
}
