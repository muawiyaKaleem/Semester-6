{
 "cells": [
  {
   "cell_type": "markdown",
   "metadata": {},
   "source": [
    "## **By using Keras as deep learning**"
   ]
  },
  {
   "cell_type": "code",
   "execution_count": 392,
   "metadata": {},
   "outputs": [],
   "source": [
    "# import the required libraries\n",
    "\n",
    "import pandas as pd\n",
    "from sklearn.preprocessing import LabelEncoder,StandardScaler\n",
    "from keras.models import Sequential\n",
    "from keras.layers import Dense\n",
    "import matplotlib.pyplot as plt\n",
    "import numpy as np"
   ]
  },
  {
   "cell_type": "code",
   "execution_count": 404,
   "metadata": {},
   "outputs": [],
   "source": [
    "\n",
    "# Load the dataset from titanic.csv and make a Dataframe\n",
    "\n",
    "data = pd.DataFrame(pd.read_csv(\"titanic.csv\"))\n",
    "data = data.drop(columns=[\"Name\",\"Ticket\"])"
   ]
  },
  {
   "cell_type": "code",
   "execution_count": 394,
   "metadata": {},
   "outputs": [
    {
     "data": {
      "text/html": [
       "<div>\n",
       "<style scoped>\n",
       "    .dataframe tbody tr th:only-of-type {\n",
       "        vertical-align: middle;\n",
       "    }\n",
       "\n",
       "    .dataframe tbody tr th {\n",
       "        vertical-align: top;\n",
       "    }\n",
       "\n",
       "    .dataframe thead th {\n",
       "        text-align: right;\n",
       "    }\n",
       "</style>\n",
       "<table border=\"1\" class=\"dataframe\">\n",
       "  <thead>\n",
       "    <tr style=\"text-align: right;\">\n",
       "      <th></th>\n",
       "      <th>PassengerId</th>\n",
       "      <th>Survived</th>\n",
       "      <th>Pclass</th>\n",
       "      <th>Sex</th>\n",
       "      <th>Age</th>\n",
       "      <th>SibSp</th>\n",
       "      <th>Parch</th>\n",
       "      <th>Fare</th>\n",
       "      <th>Cabin</th>\n",
       "      <th>Embarked</th>\n",
       "    </tr>\n",
       "  </thead>\n",
       "  <tbody>\n",
       "    <tr>\n",
       "      <th>1</th>\n",
       "      <td>2</td>\n",
       "      <td>1</td>\n",
       "      <td>1</td>\n",
       "      <td>0</td>\n",
       "      <td>38.000000</td>\n",
       "      <td>1</td>\n",
       "      <td>0</td>\n",
       "      <td>71.2833</td>\n",
       "      <td>81</td>\n",
       "      <td>0</td>\n",
       "    </tr>\n",
       "    <tr>\n",
       "      <th>5</th>\n",
       "      <td>6</td>\n",
       "      <td>0</td>\n",
       "      <td>3</td>\n",
       "      <td>1</td>\n",
       "      <td>29.699118</td>\n",
       "      <td>0</td>\n",
       "      <td>0</td>\n",
       "      <td>8.4583</td>\n",
       "      <td>147</td>\n",
       "      <td>1</td>\n",
       "    </tr>\n",
       "    <tr>\n",
       "      <th>9</th>\n",
       "      <td>10</td>\n",
       "      <td>1</td>\n",
       "      <td>2</td>\n",
       "      <td>0</td>\n",
       "      <td>14.000000</td>\n",
       "      <td>1</td>\n",
       "      <td>0</td>\n",
       "      <td>30.0708</td>\n",
       "      <td>147</td>\n",
       "      <td>0</td>\n",
       "    </tr>\n",
       "    <tr>\n",
       "      <th>16</th>\n",
       "      <td>17</td>\n",
       "      <td>0</td>\n",
       "      <td>3</td>\n",
       "      <td>1</td>\n",
       "      <td>2.000000</td>\n",
       "      <td>4</td>\n",
       "      <td>1</td>\n",
       "      <td>29.1250</td>\n",
       "      <td>147</td>\n",
       "      <td>1</td>\n",
       "    </tr>\n",
       "    <tr>\n",
       "      <th>19</th>\n",
       "      <td>20</td>\n",
       "      <td>1</td>\n",
       "      <td>3</td>\n",
       "      <td>0</td>\n",
       "      <td>29.699118</td>\n",
       "      <td>0</td>\n",
       "      <td>0</td>\n",
       "      <td>7.2250</td>\n",
       "      <td>147</td>\n",
       "      <td>0</td>\n",
       "    </tr>\n",
       "    <tr>\n",
       "      <th>...</th>\n",
       "      <td>...</td>\n",
       "      <td>...</td>\n",
       "      <td>...</td>\n",
       "      <td>...</td>\n",
       "      <td>...</td>\n",
       "      <td>...</td>\n",
       "      <td>...</td>\n",
       "      <td>...</td>\n",
       "      <td>...</td>\n",
       "      <td>...</td>\n",
       "    </tr>\n",
       "    <tr>\n",
       "      <th>875</th>\n",
       "      <td>876</td>\n",
       "      <td>1</td>\n",
       "      <td>3</td>\n",
       "      <td>0</td>\n",
       "      <td>15.000000</td>\n",
       "      <td>0</td>\n",
       "      <td>0</td>\n",
       "      <td>7.2250</td>\n",
       "      <td>147</td>\n",
       "      <td>0</td>\n",
       "    </tr>\n",
       "    <tr>\n",
       "      <th>879</th>\n",
       "      <td>880</td>\n",
       "      <td>1</td>\n",
       "      <td>1</td>\n",
       "      <td>0</td>\n",
       "      <td>56.000000</td>\n",
       "      <td>0</td>\n",
       "      <td>1</td>\n",
       "      <td>83.1583</td>\n",
       "      <td>70</td>\n",
       "      <td>0</td>\n",
       "    </tr>\n",
       "    <tr>\n",
       "      <th>885</th>\n",
       "      <td>886</td>\n",
       "      <td>0</td>\n",
       "      <td>3</td>\n",
       "      <td>0</td>\n",
       "      <td>39.000000</td>\n",
       "      <td>0</td>\n",
       "      <td>5</td>\n",
       "      <td>29.1250</td>\n",
       "      <td>147</td>\n",
       "      <td>1</td>\n",
       "    </tr>\n",
       "    <tr>\n",
       "      <th>889</th>\n",
       "      <td>890</td>\n",
       "      <td>1</td>\n",
       "      <td>1</td>\n",
       "      <td>1</td>\n",
       "      <td>26.000000</td>\n",
       "      <td>0</td>\n",
       "      <td>0</td>\n",
       "      <td>30.0000</td>\n",
       "      <td>60</td>\n",
       "      <td>0</td>\n",
       "    </tr>\n",
       "    <tr>\n",
       "      <th>890</th>\n",
       "      <td>891</td>\n",
       "      <td>0</td>\n",
       "      <td>3</td>\n",
       "      <td>1</td>\n",
       "      <td>32.000000</td>\n",
       "      <td>0</td>\n",
       "      <td>0</td>\n",
       "      <td>7.7500</td>\n",
       "      <td>147</td>\n",
       "      <td>1</td>\n",
       "    </tr>\n",
       "  </tbody>\n",
       "</table>\n",
       "<p>247 rows × 10 columns</p>\n",
       "</div>"
      ],
      "text/plain": [
       "     PassengerId  Survived  Pclass  Sex        Age  SibSp  Parch     Fare  \\\n",
       "1              2         1       1    0  38.000000      1      0  71.2833   \n",
       "5              6         0       3    1  29.699118      0      0   8.4583   \n",
       "9             10         1       2    0  14.000000      1      0  30.0708   \n",
       "16            17         0       3    1   2.000000      4      1  29.1250   \n",
       "19            20         1       3    0  29.699118      0      0   7.2250   \n",
       "..           ...       ...     ...  ...        ...    ...    ...      ...   \n",
       "875          876         1       3    0  15.000000      0      0   7.2250   \n",
       "879          880         1       1    0  56.000000      0      1  83.1583   \n",
       "885          886         0       3    0  39.000000      0      5  29.1250   \n",
       "889          890         1       1    1  26.000000      0      0  30.0000   \n",
       "890          891         0       3    1  32.000000      0      0   7.7500   \n",
       "\n",
       "     Cabin  Embarked  \n",
       "1       81         0  \n",
       "5      147         1  \n",
       "9      147         0  \n",
       "16     147         1  \n",
       "19     147         0  \n",
       "..     ...       ...  \n",
       "875    147         0  \n",
       "879     70         0  \n",
       "885    147         1  \n",
       "889     60         0  \n",
       "890    147         1  \n",
       "\n",
       "[247 rows x 10 columns]"
      ]
     },
     "execution_count": 394,
     "metadata": {},
     "output_type": "execute_result"
    }
   ],
   "source": [
    "\n",
    "encorder = LabelEncoder()                                                   # Label Encorder to encode the columns like 1 for male and 0 for female\n",
    "\n",
    "data[\"Sex\"] = encorder.fit_transform(data[\"Sex\"])\n",
    "data[\"Embarked\"] = encorder.fit_transform(data[\"Embarked\"])\n",
    "data[\"Cabin\"] = encorder.fit_transform(data[\"Cabin\"])\n",
    "columns = [\"Cabin\", \"Fare\", \"Age\"]\n",
    "\n",
    "for i in columns:                                                           # Cleaning the NaN values from the dataframe\n",
    "    data[i] = pd.to_numeric(data[i], errors=\"coerce\")\n",
    "    mean_value = data[i].mean()\n",
    "    data[i] = data[i].fillna(mean_value)\n",
    "\n",
    "data = data[data[\"Embarked\"] != 2]                                          # There is 3 group in this column so i remove one classifier from the column"
   ]
  },
  {
   "cell_type": "markdown",
   "metadata": {},
   "source": [
    "#### **Spliting the data into X and y**"
   ]
  },
  {
   "cell_type": "code",
   "execution_count": 395,
   "metadata": {},
   "outputs": [],
   "source": [
    "y = data[[\"Embarked\",\"Survived\"]]                                               # Taking two features in y embarced and survived\n",
    "X = data.drop(columns=[\"Survived\",\"Embarked\"])                                  # Rest of all columns store in X\n",
    "\n",
    "scaler = StandardScaler()                                                       # scaler use to set all the values on same scale\n",
    "\n",
    "x_scale = scaler.fit_transform(X)                                               # Scaling\n",
    "y_scale = scaler.fit_transform(y)"
   ]
  },
  {
   "cell_type": "markdown",
   "metadata": {},
   "source": [
    "## **Model Training**"
   ]
  },
  {
   "cell_type": "code",
   "execution_count": 396,
   "metadata": {},
   "outputs": [],
   "source": [
    "model = Sequential()                                                            # Model use for deep learning alogrithms\n",
    "\n",
    "model.add(Dense(16,input_dim = X.shape[1],activation='relu'))                   # Add input layer(input_dim is no of features)\n",
    "\n",
    "model.add(Dense(32, activation='relu'))                                         # Add hidden layer with activation function\n",
    "\n",
    "model.add(Dense(2,activation='sigmoid'))                                        # use 2 neuron represent the number of target values"
   ]
  },
  {
   "cell_type": "code",
   "execution_count": null,
   "metadata": {},
   "outputs": [],
   "source": [
    "model.compile(loss='binary_crossentropy',optimizer='adam',metrics=['accuracy']) # Compile the model, means give model the function in which it put and check the values + deal with errors"
   ]
  },
  {
   "cell_type": "code",
   "execution_count": 398,
   "metadata": {},
   "outputs": [
    {
     "name": "stdout",
     "output_type": "stream",
     "text": [
      "Epoch 1/10\n",
      "8/8 [==============================] - 1s 4ms/step - loss: 0.6390 - accuracy: 0.3522\n",
      "Epoch 2/10\n",
      "8/8 [==============================] - 0s 4ms/step - loss: 0.5500 - accuracy: 0.4656\n",
      "Epoch 3/10\n",
      "8/8 [==============================] - 0s 4ms/step - loss: 0.4693 - accuracy: 0.5142\n",
      "Epoch 4/10\n",
      "8/8 [==============================] - 0s 3ms/step - loss: 0.3904 - accuracy: 0.5385\n",
      "Epoch 5/10\n",
      "8/8 [==============================] - 0s 3ms/step - loss: 0.3154 - accuracy: 0.5749\n",
      "Epoch 6/10\n",
      "8/8 [==============================] - 0s 4ms/step - loss: 0.2432 - accuracy: 0.6032\n",
      "Epoch 7/10\n",
      "8/8 [==============================] - 0s 4ms/step - loss: 0.1744 - accuracy: 0.6316\n",
      "Epoch 8/10\n",
      "8/8 [==============================] - 0s 6ms/step - loss: 0.0996 - accuracy: 0.6721\n",
      "Epoch 9/10\n",
      "8/8 [==============================] - 0s 5ms/step - loss: 0.0272 - accuracy: 0.6883\n",
      "Epoch 10/10\n",
      "8/8 [==============================] - 0s 5ms/step - loss: -0.0477 - accuracy: 0.6842\n",
      "8/8 [==============================] - 0s 8ms/step - loss: 120.3454 - accuracy: 0.6235\n",
      "Accuracy:  62.0 %\n"
     ]
    }
   ],
   "source": [
    "model.fit(x_scale,y_scale,epochs=10)                                            # Then fit the values into the model\n",
    "\n",
    "loss,accuracy_neural = model.evaluate(X,y)                                      # Evaluate mean i think it works like predictions functions we use in scikit\n",
    "\n",
    "print(f'Accuracy: ',round(accuracy_neural*100,0),'%')                           # printing the accuracy"
   ]
  },
  {
   "cell_type": "markdown",
   "metadata": {},
   "source": [
    "## **Do by using scikit-learn**"
   ]
  },
  {
   "cell_type": "markdown",
   "metadata": {},
   "source": [
    "##### **by using the same data from above after droping and removing null values**"
   ]
  },
  {
   "cell_type": "code",
   "execution_count": 399,
   "metadata": {},
   "outputs": [],
   "source": [
    "import pandas as pd\n",
    "from sklearn.linear_model import Perceptron\n",
    "from sklearn.model_selection import train_test_split\n",
    "from sklearn.metrics import accuracy_score"
   ]
  },
  {
   "cell_type": "markdown",
   "metadata": {},
   "source": [
    "### **Train the Model**"
   ]
  },
  {
   "cell_type": "code",
   "execution_count": 400,
   "metadata": {},
   "outputs": [],
   "source": [
    "y = y.drop(columns=[\"Embarked\"])                                                                # In y take only one column as target because in scikit we take only 1 feature as y\n",
    "\n",
    "X_train,X_test,y_train,y_test = train_test_split(X,y,random_state=0,test_size=0.2)              # Testing and spliting the data into 80% and 20%\n",
    "\n",
    "X_train_scale = scaler.fit_transform(X_train)                                                   # Again scaling for scikit data to do them on same scale\n",
    "X_test_scale = scaler.fit_transform(X_test)"
   ]
  },
  {
   "cell_type": "code",
   "execution_count": 401,
   "metadata": {},
   "outputs": [
    {
     "name": "stdout",
     "output_type": "stream",
     "text": [
      "Accuracy: 70.0%\n"
     ]
    },
    {
     "name": "stderr",
     "output_type": "stream",
     "text": [
      "/home/dr-pc/anaconda3/lib/python3.11/site-packages/sklearn/utils/validation.py:1143: DataConversionWarning: A column-vector y was passed when a 1d array was expected. Please change the shape of y to (n_samples, ), for example using ravel().\n",
      "  y = column_or_1d(y, warn=True)\n"
     ]
    }
   ],
   "source": [
    "perceptron = Perceptron(eta0=0.1,max_iter=100)                                                 # Model used is name as Perceptron (also NN model)\n",
    "\n",
    "perceptron.fit(X_train_scale,y_train)                                                          # Fit in the values\n",
    "predictions = perceptron.predict(X_test_scale)\n",
    "\n",
    "accuracy_scikit = accuracy_score(y_test,predictions)                                           # Built in function to check the accuracy of the Perceptron\n",
    "\n",
    "print(f'Accuracy: {round(accuracy_scikit*100,0)}%')"
   ]
  },
  {
   "cell_type": "code",
   "execution_count": 402,
   "metadata": {},
   "outputs": [],
   "source": [
    "import matplotlib.pyplot as plt                                                                # Library used for making graphs"
   ]
  },
  {
   "cell_type": "code",
   "execution_count": 403,
   "metadata": {},
   "outputs": [
    {
     "data": {
      "image/png": "[encoded data removed]",
      "text/plain": [
       "<Figure size 640x480 with 1 Axes>"
      ]
     },
     "metadata": {},
     "output_type": "display_data"
    }
   ],
   "source": [
    "models_name = [\"Keras_Model\",\"Scikit_Model\"]                                                    # Models name store in list to give as a parameter to graph function\n",
    "\n",
    "accuracies = [accuracy_neural,accuracy_scikit]                                                  # Do same with both of the accuracies of the models\n",
    "\n",
    "plt.bar(models_name,accuracies,color='skyblue')                                                 # Function used to make a bar graph\n",
    "plt.show()"
   ]
  }
 ],
 "metadata": {
  "kernelspec": {
   "display_name": "Python 3 (ipykernel)",
   "language": "python",
   "name": "python3"
  },
  "language_info": {
   "codemirror_mode": {
    "name": "ipython",
    "version": 3
   },
   "file_extension": ".py",
   "mimetype": "text/x-python",
   "name": "python",
   "nbconvert_exporter": "python",
   "pygments_lexer": "ipython3",
   "version": "3.11.7"
  }
 },
 "nbformat": 4,
 "nbformat_minor": 4
}
