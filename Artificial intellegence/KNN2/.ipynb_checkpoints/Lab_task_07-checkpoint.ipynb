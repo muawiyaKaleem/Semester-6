{
 "cells": [
  {
   "cell_type": "code",
   "execution_count": 9,
   "metadata": {},
   "outputs": [
    {
     "name": "stdout",
     "output_type": "stream",
     "text": [
      "[0.39, 0.45, 0.46, 0.46, 0.45, 0.45, 0.46]\n",
      "List: [3, 22, 47, 47, 20, 38, 47]\n"
     ]
    },
    {
     "data": {
      "image/png": "[encoded data removed]",
      "text/plain": [
       "<Figure size 640x480 with 1 Axes>"
      ]
     },
     "metadata": {},
     "output_type": "display_data"
    }
   ],
   "source": [
    "import pandas as pd\n",
    "from sklearn.model_selection import train_test_split\n",
    "from sklearn.neighbors import  KNeighborsRegressor\n",
    "import numpy as np\n",
    "import random\n",
    "import matplotlib.pyplot as plt\n",
    "from sklearn.metrics import mean_absolute_error\n",
    "\n",
    "columns = ['Age','Fare']\n",
    "accuracies = []\n",
    "colors = ['red', 'green', 'blue', 'orange', 'purple', 'cyan',  'magenta']\n",
    "\n",
    "data = pd.DataFrame(pd.read_csv(\"tested.csv\"))\n",
    "data[\"Sex\"] = data[\"Sex\"].replace({'male':1,'female':0})\n",
    "data[\"Embarked\"] = data[\"Embarked\"].replace({'S':0,'Q':1,'C':2})\n",
    "for column in columns:\n",
    "    data[column] = data[column].replace(np.NaN,round(data[column].mean(),1))\n",
    "\n",
    "X = data.iloc[:,[2]+list(range(4,8))+[9]+[11]]\n",
    "Y = data.iloc[:,1]\n",
    "X_train,X_test,Y_train,Y_test = train_test_split(X,Y,random_state=0,test_size=0.3)\n",
    "\n",
    "test_cases = [random.randint(1,50) for i  in range(7)]\n",
    "\n",
    "for  i in test_cases:\n",
    "    regressor = KNeighborsRegressor(n_neighbors=i,p=2,metric=\"euclidean\")\n",
    "    regressor.fit(X_train,Y_train)\n",
    "    predictions = list(regressor.predict(X_test))\n",
    "    accuracies.append(round(mean_absolute_error(Y_test,predictions),2))\n",
    "\n",
    "plt.scatter(accuracies,test_cases,c=colors)\n",
    "print(accuracies)\n",
    "print(f'List: {test_cases}')\n"
   ]
  },
  {
   "cell_type": "markdown",
   "metadata": {},
   "source": [
    "#### **the more neighbours you check, the more accurate value you can get**"
   ]
  }
 ],
 "metadata": {
  "kernelspec": {
   "display_name": "base",
   "language": "python",
   "name": "python3"
  },
  "language_info": {
   "codemirror_mode": {
    "name": "ipython",
    "version": 3
   },
   "file_extension": ".py",
   "mimetype": "text/x-python",
   "name": "python",
   "nbconvert_exporter": "python",
   "pygments_lexer": "ipython3",
   "version": "3.11.7"
  }
 },
 "nbformat": 4,
 "nbformat_minor": 2
}
