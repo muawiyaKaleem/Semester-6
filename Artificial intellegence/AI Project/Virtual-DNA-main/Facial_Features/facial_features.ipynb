{
  "nbformat": 4,
  "nbformat_minor": 0,
  "metadata": {
    "colab": {
      "provenance": []
    },
    "kernelspec": {
      "name": "python3",
      "display_name": "Python 3"
    },
    "language_info": {
      "name": "python"
    }
  },
  "cells": [
    {
      "cell_type": "code",
      "execution_count": null,
      "metadata": {
        "id": "VLKxSMih2wpq"
      },
      "outputs": [],
      "source": [
        "# Connect with google drive\n"
      ]
    },
    {
      "cell_type": "markdown",
      "source": [],
      "metadata": {
        "id": "FndZyZj-CbfL"
      }
    },
    {
      "cell_type": "code",
      "source": [
        "from google.colab import drive\n",
        "import os\n",
        "import numpy as np\n",
        "from sklearn.model_selection import train_test_split\n",
        "from sklearn.metrics import accuracy_score\n",
        "from sklearn.preprocessing import LabelEncoder\n",
        "from keras.preprocessing.image import load_img, img_to_array\n",
        "from keras.models import Sequential\n",
        "from keras.layers import Conv2D, MaxPooling2D, Flatten, Dense\n",
        "import pickle\n",
        "\n",
        "# Mount Google Drive\n",
        "drive.mount('/content/drive')\n",
        "\n",
        "# Function to load images and labels from the dataset folder\n",
        "def load_data(dataset_path):\n",
        "    images = []\n",
        "    labels = []\n",
        "    for filename in os.listdir(dataset_path):\n",
        "        if filename.startswith(\"fs_\"):\n",
        "            label = filename.split(\"_\")[2]  # Extract the label from the filename\n",
        "            img = load_img(os.path.join(dataset_path, filename), target_size=(64, 64))\n",
        "            img_array = img_to_array(img)\n",
        "            images.append(img_array)\n",
        "            labels.append(label)\n",
        "    return np.array(images), np.array(labels)\n",
        "\n",
        "# Load dataset from Google Drive\n",
        "dataset_path = \"/content/drive/My Drive/Dataset\"\n",
        "images, labels = load_data(dataset_path)\n",
        "\n",
        "# Encode labels\n",
        "label_encoder = LabelEncoder()\n",
        "labels = label_encoder.fit_transform(labels)\n",
        "\n",
        "# Split data into training and testing sets\n",
        "X_train, X_test, y_train, y_test = train_test_split(images, labels, test_size=0.2, random_state=42)\n",
        "\n",
        "# Normalize pixel values to range [0, 1]\n",
        "X_train = X_train / 255.0\n",
        "X_test = X_test / 255.0\n",
        "\n",
        "# Define the CNN model\n",
        "model = Sequential()\n",
        "model.add(Conv2D(32, (3, 3), activation='relu', input_shape=(64, 64, 3)))\n",
        "model.add(MaxPooling2D((2, 2)))\n",
        "model.add(Conv2D(64, (3, 3), activation='relu'))\n",
        "model.add(MaxPooling2D((2, 2)))\n",
        "model.add(Conv2D(128, (3, 3), activation='relu'))\n",
        "model.add(MaxPooling2D((2, 2)))\n",
        "model.add(Flatten())\n",
        "model.add(Dense(128, activation='relu'))\n",
        "model.add(Dense(1, activation='sigmoid'))0\n",
        "\n",
        "# Compile the model\n",
        "model.compile(optimizer='adam', loss='binary_crossentropy', metrics=['accuracy'])\n",
        "\n",
        "# Train the model\n",
        "model.fit(X_train, y_train, epochs=10, batch_size=32, validation_data=(X_test, y_test))\n",
        "\n",
        "# Evaluate the model\n",
        "_, accuracy = model.evaluate(X_test, y_test)\n",
        "print(\"Accuracy on test set:\", accuracy)\n",
        "\n",
        "# Save the trained model as a pickle file\n",
        "with open(\"model.pkl\", \"wb\") as file:\n",
        "    pickle.dump(model, file)\n",
        "\n",
        "print(\"Model saved as model.pkl\")\n"
      ],
      "metadata": {
        "colab": {
          "base_uri": "https://localhost:8080/"
        },
        "id": "DQi1r8TN4epm",
        "outputId": "7700ce0d-ed95-40ea-97ec-baf5429a94d2"
      },
      "execution_count": null,
      "outputs": [
        {
          "output_type": "stream",
          "name": "stdout",
          "text": [
            "Drive already mounted at /content/drive; to attempt to forcibly remount, call drive.mount(\"/content/drive\", force_remount=True).\n",
            "Epoch 1/10\n",
            "8/8 [==============================] - 3s 233ms/step - loss: 0.6964 - accuracy: 0.4960 - val_loss: 0.7060 - val_accuracy: 0.4603\n",
            "Epoch 2/10\n",
            "8/8 [==============================] - 2s 197ms/step - loss: 0.6966 - accuracy: 0.4798 - val_loss: 0.6971 - val_accuracy: 0.4444\n",
            "Epoch 3/10\n",
            "8/8 [==============================] - 2s 207ms/step - loss: 0.6882 - accuracy: 0.5726 - val_loss: 0.6898 - val_accuracy: 0.4762\n",
            "Epoch 4/10\n",
            "8/8 [==============================] - 2s 276ms/step - loss: 0.6770 - accuracy: 0.6331 - val_loss: 0.6824 - val_accuracy: 0.5079\n",
            "Epoch 5/10\n",
            "8/8 [==============================] - 3s 341ms/step - loss: 0.6565 - accuracy: 0.6089 - val_loss: 0.7869 - val_accuracy: 0.5556\n",
            "Epoch 6/10\n",
            "8/8 [==============================] - 2s 228ms/step - loss: 0.6851 - accuracy: 0.5161 - val_loss: 0.6890 - val_accuracy: 0.5079\n",
            "Epoch 7/10\n",
            "8/8 [==============================] - 2s 204ms/step - loss: 0.6630 - accuracy: 0.6169 - val_loss: 0.6815 - val_accuracy: 0.5079\n",
            "Epoch 8/10\n",
            "8/8 [==============================] - 2s 205ms/step - loss: 0.6425 - accuracy: 0.6129 - val_loss: 0.7475 - val_accuracy: 0.5714\n",
            "Epoch 9/10\n",
            "8/8 [==============================] - 2s 208ms/step - loss: 0.6375 - accuracy: 0.6169 - val_loss: 0.6881 - val_accuracy: 0.4921\n",
            "Epoch 10/10\n",
            "8/8 [==============================] - 2s 201ms/step - loss: 0.5920 - accuracy: 0.7258 - val_loss: 0.7567 - val_accuracy: 0.6032\n",
            "2/2 [==============================] - 0s 60ms/step - loss: 0.7567 - accuracy: 0.6032\n",
            "Accuracy on test set: 0.60317462682724\n",
            "Model saved as model.pkl\n"
          ]
        }
      ]
    },
    {
      "cell_type": "code",
      "source": [],
      "metadata": {
        "id": "pjgWBhauCYTK"
      },
      "execution_count": null,
      "outputs": []
    },
    {
      "cell_type": "code",
      "source": [
        "# Load the model from the pickle file\n",
        "with open(\"model.pkl\", \"rb\") as file:\n",
        "    model = pickle.load(file)\n",
        "\n",
        "# Function to predict whether two images are father and son or not using the loaded model\n",
        "def predict_father_son(image1_path, image2_path):\n",
        "    img1 = load_img(image1_path, target_size=(64, 64))\n",
        "    img1 = img_to_array(img1) / 255.0\n",
        "    img2 = load_img(image2_path, target_size=(64, 64))\n",
        "    img2 = img_to_array(img2) / 255.0\n",
        "    prediction = model.predict(np.array([img1, img2]))\n",
        "    print(type(prediction))\n",
        "    print(prediction)\n",
        "    # Compare each prediction individually\n",
        "    result = []\n",
        "    for pred in prediction:\n",
        "        if pred > 0.5:\n",
        "            result.append(\"Father and son\")\n",
        "        else:\n",
        "            result.append(\"Not father and son\")\n",
        "    return resultW\n",
        "\n",
        "# Example usage of predict_father_son function\n",
        "image1_path = \"1.jpg\"\n",
        "image2_path = \"2.jpg\"\n",
        "prediction_result = predict_father_son(image1_path, image2_path)\n",
        "print(\"Prediction result:\", prediction_result)\n"
      ],
      "metadata": {
        "colab": {
          "base_uri": "https://localhost:8080/"
        },
        "id": "VBgIlOUB36YO",
        "outputId": "f82603bf-d1b6-40f3-ec43-babcd133c867"
      },
      "execution_count": null,
      "outputs": [
        {
          "output_type": "stream",
          "name": "stdout",
          "text": [
            "1/1 [==============================] - 0s 69ms/step\n",
            "Normalized average prediction: nan\n",
            "Prediction result: Not father and son\n"
          ]
        },
        {
          "output_type": "stream",
          "name": "stderr",
          "text": [
            "<ipython-input-10-77454d4434b2>:13: RuntimeWarning: invalid value encountered in scalar divide\n",
            "  normalized_prediction = (avg_prediction - np.min(avg_prediction)) / (np.max(avg_prediction) - np.min(avg_prediction))\n"
          ]
        }
      ]
    },
    {
      "cell_type": "code",
      "source": [],
      "metadata": {
        "id": "82qpY6gk31dm"
      },
      "execution_count": null,
      "outputs": []
    }
  ]
}