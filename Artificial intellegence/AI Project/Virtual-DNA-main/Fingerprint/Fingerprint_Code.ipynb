{
  "nbformat": 4,
  "nbformat_minor": 0,
  "metadata": {
    "colab": {
      "provenance": [],
      "gpuType": "T4"
    },
    "kernelspec": {
      "name": "python3",
      "display_name": "Python 3"
    },
    "language_info": {
      "name": "python"
    },
    "accelerator": "GPU"
  },
  "cells": [
    {
      "cell_type": "code",
      "execution_count": 1,
      "metadata": {
        "colab": {
          "base_uri": "https://localhost:8080/"
        },
        "id": "TvA87I2KBUBJ",
        "outputId": "aa6571f2-0538-4f91-917b-bef330420c6b"
      },
      "outputs": [
        {
          "output_type": "stream",
          "name": "stdout",
          "text": [
            "Mounted at /content/drive\n"
          ]
        }
      ],
      "source": [
        "from google.colab import drive\n",
        "drive.mount('/content/drive')"
      ]
    },
    {
      "cell_type": "code",
      "source": [
        "import os\n",
        "from torchvision.datasets import ImageFolder\n",
        "import torchvision.transforms as transforms\n",
        "\n",
        "%matplotlib inline\n",
        "import matplotlib.pyplot as plt\n",
        "import numpy as np\n",
        "import random\n",
        "from PIL import Image\n",
        "import PIL.ImageOps\n",
        "\n",
        "import torchvision\n",
        "import torchvision.datasets as datasets\n",
        "import torchvision.transforms as transforms\n",
        "from torch.utils.data import DataLoader, Dataset\n",
        "import torchvision.utils\n",
        "import torch\n",
        "from torch.autograd import Variable\n",
        "import torch.nn as nn\n",
        "from torch import optim\n",
        "from torch.utils.data import DataLoader, SubsetRandomSampler\n",
        "import torch.nn.functional as F\n",
        "import torch\n",
        "from torch.utils.data import Dataset\n",
        "from torchvision.datasets import ImageFolder\n",
        "import torchvision.transforms as transforms\n",
        "from torch.utils.data import DataLoader, random_split\n",
        "from torchvision import models\n",
        "from torchsummary import summary"
      ],
      "metadata": {
        "id": "f17YTRF0BkXb"
      },
      "execution_count": 2,
      "outputs": []
    },
    {
      "cell_type": "code",
      "source": [
        "! pip install torchsummary"
      ],
      "metadata": {
        "colab": {
          "base_uri": "https://localhost:8080/"
        },
        "id": "Xav2SccCBw2p",
        "outputId": "709cc28e-b3ac-4935-db22-a94e7fa570a2"
      },
      "execution_count": 3,
      "outputs": [
        {
          "output_type": "stream",
          "name": "stdout",
          "text": [
            "Requirement already satisfied: torchsummary in /usr/local/lib/python3.10/dist-packages (1.5.1)\n"
          ]
        }
      ]
    },
    {
      "cell_type": "code",
      "source": [
        "# Creating some helper functions\n",
        "def imshow(img, text=None):\n",
        "    npimg = img.numpy()\n",
        "    plt.axis(\"off\")\n",
        "    if text:\n",
        "        plt.text(75, 8, text, style='italic',fontweight='bold',\n",
        "            bbox={'facecolor':'white', 'alpha':0.8, 'pad':10})\n",
        "\n",
        "    plt.imshow(np.transpose(npimg, (1, 2, 0)))\n",
        "    plt.show()\n",
        "\n",
        "def plot_image(image_tensor):\n",
        "    \"\"\"\n",
        "    Plot the whole image represented by the given tensor.\n",
        "\n",
        "    Arguments:\n",
        "        image_tensor (torch.Tensor): Tensor representing the image.\n",
        "    \"\"\"\n",
        "    # Convert tensor to NumPy array\n",
        "    image_array = image_tensor.numpy()\n",
        "\n",
        "    # Plot the image\n",
        "    plt.imshow(image_array, cmap='gray')\n",
        "    plt.axis('off')\n",
        "    plt.show()\n",
        "\n",
        "import matplotlib.pyplot as plt\n",
        "\n",
        "def plot_image_pair(image_pair):\n",
        "    \"\"\"\n",
        "    Plot image pair and their label.\n",
        "\n",
        "    Arguments:\n",
        "        image_pair (tuple): Tuple containing two image tensors and their label.\n",
        "    \"\"\"\n",
        "    # Extract images and label from the tuple\n",
        "    img0_tensor, img1_tensor, label = image_pair\n",
        "\n",
        "    # Convert tensors to NumPy arrays and remove singleton channel dimension\n",
        "    img0_array = img0_tensor.squeeze().numpy()\n",
        "    img1_array = img1_tensor.squeeze().numpy()\n",
        "\n",
        "    # Plot the images\n",
        "    fig, axes = plt.subplots(1, 2, figsize=(10, 5))\n",
        "    axes[0].imshow(img0_array, cmap='gray')\n",
        "    axes[0].axis('off')\n",
        "    axes[0].set_title('Image 0')\n",
        "\n",
        "    axes[1].imshow(img1_array, cmap='gray')\n",
        "    axes[1].axis('off')\n",
        "    axes[1].set_title('Image 1')\n",
        "\n",
        "    # Convert label to string before using it in the title\n",
        "    plt.suptitle(f'Label: {str(label)}')\n",
        "    plt.show()\n"
      ],
      "metadata": {
        "id": "bpD0Bc8mCECI"
      },
      "execution_count": 4,
      "outputs": []
    },
    {
      "cell_type": "code",
      "source": [
        "def show_plot(counter, train_loss_history, val_loss_history):\n",
        "    \"\"\"\n",
        "    Display a plot of the training and validation loss over iterations.\n",
        "\n",
        "    Args:\n",
        "        counter (list): List of iteration numbers.\n",
        "        train_loss_history (list): List of training loss values.\n",
        "        val_loss_history (list): List of validation loss values.\n",
        "    \"\"\"\n",
        "    plt.figure(figsize=(10, 5))\n",
        "    plt.plot(counter, train_loss_history, label='Train Loss')\n",
        "    plt.plot(counter, val_loss_history, label='Validation Loss')\n",
        "    plt.xlabel('Iteration')\n",
        "    plt.ylabel('Loss')\n",
        "    plt.title('Training and Validation Loss')\n",
        "    plt.legend()\n",
        "    plt.show()\n"
      ],
      "metadata": {
        "id": "89NGQIszCEuT"
      },
      "execution_count": 5,
      "outputs": []
    },
    {
      "cell_type": "code",
      "source": [
        "def plot_images(image_pair, similarity_score):\n",
        "    \"\"\"\n",
        "    Plot image pair and their similarity score.\n",
        "\n",
        "    Arguments:\n",
        "        image_pair (tuple): Tuple containing two image tensors.\n",
        "        similarity_score (float): Similarity score of the image pair.\n",
        "    \"\"\"\n",
        "    # Extract images from the tuple\n",
        "    img0, img1 = image_pair\n",
        "\n",
        "    # Convert tensors to NumPy arrays\n",
        "    img0_array = img0.squeeze().cpu().numpy()\n",
        "    img1_array = img1.squeeze().cpu().numpy()\n",
        "\n",
        "    # Plot the images\n",
        "    fig, axes = plt.subplots(1, 2, figsize=(10, 5))\n",
        "    axes[0].imshow(img0_array, cmap='gray')\n",
        "    axes[0].axis('off')\n",
        "    axes[0].set_title('Image 0')\n",
        "\n",
        "    axes[1].imshow(img1_array, cmap='gray')\n",
        "    axes[1].axis('off')\n",
        "    axes[1].set_title('Image 1')\n",
        "\n",
        "    plt.suptitle(f'Similarity Score: {similarity_score:.2f}')\n",
        "    plt.show()"
      ],
      "metadata": {
        "id": "3CJ7WultIYVX"
      },
      "execution_count": 71,
      "outputs": []
    },
    {
      "cell_type": "code",
      "source": [
        "\n",
        "class SiameseNetworkDataset(Dataset):\n",
        "    def __init__(self, root_dir, transform=None):\n",
        "        \"\"\"\n",
        "        Args:\n",
        "            root_dir (string): Directory with all the images and subfolders.\n",
        "            transform (callable, optional): Optional transform to be applied on a sample.\n",
        "        \"\"\"\n",
        "        self.root_dir = root_dir\n",
        "        self.transform = transform\n",
        "        self.classes = [folder for folder in os.listdir(root_dir) if os.path.isdir(os.path.join(root_dir, folder))]\n",
        "\n",
        "        # Create a list to hold pairs of images\n",
        "        self.image_pairs = []\n",
        "\n",
        "        # Iterate over each class folder\n",
        "        for class_label in self.classes:\n",
        "            class_folder = os.path.join(self.root_dir, class_label)  # Path to class folder\n",
        "            subfolders = os.listdir(class_folder)\n",
        "\n",
        "            # Iterate over each subfolder within the class folder\n",
        "            for subfolder in subfolders:\n",
        "                subfolder_path = os.path.join(class_folder, subfolder)\n",
        "\n",
        "                # Get all pairs of images in the subfolder\n",
        "                image_names = os.listdir(subfolder_path)\n",
        "                pair_images = [(os.path.join(subfolder_path, image_names[i]), os.path.join(subfolder_path, image_names[i+1])) for i in range(0, len(image_names), 2)]\n",
        "\n",
        "                # Add pairs of images along with their class label to the list\n",
        "                self.image_pairs.extend([(img0, img1, int(class_label)) for img0, img1 in pair_images])\n",
        "\n",
        "    def __len__(self):\n",
        "        return len(self.image_pairs)\n",
        "\n",
        "    def __getitem__(self, idx):\n",
        "        img0_path, img1_path, class_label = self.image_pairs[idx]\n",
        "\n",
        "        # Load images\n",
        "        img0 = Image.open(img0_path)\n",
        "        img1 = Image.open(img1_path)\n",
        "\n",
        "        # Apply transformations\n",
        "        if self.transform:\n",
        "            img0 = self.transform(img0)\n",
        "            img1 = self.transform(img1)\n",
        "\n",
        "        return img0, img1, class_label\n"
      ],
      "metadata": {
        "id": "cFA5CnNKCGqZ"
      },
      "execution_count": 6,
      "outputs": []
    },
    {
      "cell_type": "code",
      "source": [
        "\n",
        "root_dir = '/content/drive/MyDrive/Dataset'\n",
        "\n",
        "classes = [folder for folder in os.listdir(root_dir) if os.path.isdir(os.path.join(root_dir, folder))]\n",
        "\n",
        "        # Create a list to hold pairs of images\n",
        "image_pairs = []\n",
        "\n",
        "        # Iterate over each class folder\n",
        "for class_label in classes:\n",
        "    class_folder = os.path.join(root_dir, class_label)  # Path to class folder\n",
        "    subfolders = os.listdir(class_folder)\n",
        "    i = 0\n",
        "            # Iterate over each subfolder within the class folder\n",
        "    for subfolder in subfolders:\n",
        "        if i < 1:\n",
        "            subfolder_path = os.path.join(class_folder, subfolder)\n",
        "\n",
        "                # Get all pairs of images in the subfolder\n",
        "            image_names = os.listdir(subfolder_path)\n",
        "            print(\"1\")\n",
        "            print(image_names,end=\"\")\n",
        "            pair_images = [(os.path.join(subfolder_path, image_names[i]), os.path.join(subfolder_path, image_names[i+1])) for i in range(0, len(image_names), 2)]\n",
        "            print(\"2\")\n",
        "            print(pair_images,end=\"\")\n",
        "\n",
        "                # Add pairs of images along with their class label to the list\n",
        "            image_pairs.extend([(img0, img1, int(class_label)) for img0, img1 in pair_images])\n",
        "            i+=1\n"
      ],
      "metadata": {
        "colab": {
          "base_uri": "https://localhost:8080/"
        },
        "id": "BoQbOPFeCH9d",
        "outputId": "7a7b3bb9-db1c-40bd-8859-1b9af492a749"
      },
      "execution_count": 7,
      "outputs": [
        {
          "output_type": "stream",
          "name": "stdout",
          "text": [
            "1\n",
            "['child.bmp', 'father.bmp']2\n",
            "[('/content/drive/MyDrive/Dataset/0/Fingerprint Family (28)/child.bmp', '/content/drive/MyDrive/Dataset/0/Fingerprint Family (28)/father.bmp')]1\n",
            "['2-0.bmp', '2-1.bmp']2\n",
            "[('/content/drive/MyDrive/Dataset/1/2/2-0.bmp', '/content/drive/MyDrive/Dataset/1/2/2-1.bmp')]"
          ]
        }
      ]
    },
    {
      "cell_type": "code",
      "source": [
        "transformation = transforms.Compose([\n",
        "    transforms.Resize((100, 100)),  # Resize images to a consistent size\n",
        "    transforms.Grayscale(num_output_channels=1),  # Convert images to grayscale\n",
        "    transforms.ToTensor()  # Convert images to PyTorch tensors\n",
        "])\n",
        "root = '/content/drive/MyDrive/Dataset'\n",
        "# Initialize the ImageFolderDataset\n",
        "folder_dataset = ImageFolder(root='/content/drive/MyDrive/Dataset')\n",
        "\n",
        "# Initialize the SiameseNetworkDataset\n",
        "siamese_dataset = SiameseNetworkDataset(root_dir='/content/drive/MyDrive/Dataset', transform=transformation)"
      ],
      "metadata": {
        "id": "_-vl87_eCJx9"
      },
      "execution_count": 8,
      "outputs": []
    },
    {
      "cell_type": "code",
      "source": [
        "# following transformation has been applied\n",
        "siamese_dataset.transform"
      ],
      "metadata": {
        "colab": {
          "base_uri": "https://localhost:8080/"
        },
        "id": "90RG89K0CNL_",
        "outputId": "8a1f1c81-d75b-4ede-8a04-19b0b310f621"
      },
      "execution_count": 9,
      "outputs": [
        {
          "output_type": "execute_result",
          "data": {
            "text/plain": [
              "Compose(\n",
              "    Resize(size=(100, 100), interpolation=bilinear, max_size=None, antialias=True)\n",
              "    Grayscale(num_output_channels=1)\n",
              "    ToTensor()\n",
              ")"
            ]
          },
          "metadata": {},
          "execution_count": 9
        }
      ]
    },
    {
      "cell_type": "code",
      "source": [
        "plot_image_pair(siamese_dataset.__getitem__(34))"
      ],
      "metadata": {
        "colab": {
          "base_uri": "https://localhost:8080/",
          "height": 455
        },
        "id": "uOe1xVjnCOZG",
        "outputId": "08224908-b9cb-4cfa-aafd-3fb09c9896ef"
      },
      "execution_count": 10,
      "outputs": [
        {
          "output_type": "display_data",
          "data": {
            "text/plain": [
              "<Figure size 1000x500 with 2 Axes>"
            ],
            "image/png": "[encoded data removed]"
          },
          "metadata": {}
        }
      ]
    },
    {
      "cell_type": "code",
      "source": [
        "class_to_idx = folder_dataset.class_to_idx"
      ],
      "metadata": {
        "id": "6vJB9PmfCuvX"
      },
      "execution_count": 11,
      "outputs": []
    },
    {
      "cell_type": "code",
      "source": [
        "print(class_to_idx)"
      ],
      "metadata": {
        "colab": {
          "base_uri": "https://localhost:8080/"
        },
        "id": "ewYdfv_5Cyse",
        "outputId": "b9be81f8-c3ea-400d-df35-af6bffd894d3"
      },
      "execution_count": 12,
      "outputs": [
        {
          "output_type": "stream",
          "name": "stdout",
          "text": [
            "{'0': 0, '1': 1}\n"
          ]
        }
      ]
    },
    {
      "cell_type": "code",
      "source": [
        "image_list = folder_dataset.imgs"
      ],
      "metadata": {
        "id": "u-zibIVBC0OG"
      },
      "execution_count": 13,
      "outputs": []
    },
    {
      "cell_type": "code",
      "source": [
        "image = Image.open(image_list[200][0])\n",
        "print(image)"
      ],
      "metadata": {
        "colab": {
          "base_uri": "https://localhost:8080/"
        },
        "id": "8B9_QPzeC1g-",
        "outputId": "1d611aa4-a27e-45c5-a9a3-f976b4262546"
      },
      "execution_count": 14,
      "outputs": [
        {
          "output_type": "stream",
          "name": "stdout",
          "text": [
            "<PIL.BmpImagePlugin.BmpImageFile image mode=L size=154x192 at 0x7F5C2558ACE0>\n"
          ]
        }
      ]
    },
    {
      "cell_type": "code",
      "source": [
        "image_list = folder_dataset.imgs"
      ],
      "metadata": {
        "id": "PsvxE8f-C3Oj"
      },
      "execution_count": 15,
      "outputs": []
    },
    {
      "cell_type": "code",
      "source": [
        "siamese_dataset.transform"
      ],
      "metadata": {
        "colab": {
          "base_uri": "https://localhost:8080/"
        },
        "id": "k3PV04hOC43N",
        "outputId": "f4d0d446-f762-4294-ddd4-75f48cb3988d"
      },
      "execution_count": 16,
      "outputs": [
        {
          "output_type": "execute_result",
          "data": {
            "text/plain": [
              "Compose(\n",
              "    Resize(size=(100, 100), interpolation=bilinear, max_size=None, antialias=True)\n",
              "    Grayscale(num_output_channels=1)\n",
              "    ToTensor()\n",
              ")"
            ]
          },
          "metadata": {},
          "execution_count": 16
        }
      ]
    },
    {
      "cell_type": "code",
      "source": [
        "class SiameseNetwork(nn.Module):\n",
        "    def __init__(self):\n",
        "        super(SiameseNetwork, self).__init__()\n",
        "        # Setting up the Sequential of CNN Layers\n",
        "        self.cnn1 = nn.Sequential(\n",
        "            nn.Conv2d(1, 96, kernel_size=9,stride=1,padding = 4,padding_mode = 'zeros'),\n",
        "            nn.ReLU(inplace=True),\n",
        "            nn.LocalResponseNorm(5,alpha=0.0001,beta=0.75,k=2),\n",
        "            nn.MaxPool2d(3, stride=2),\n",
        "\n",
        "            nn.Conv2d(96, 256, kernel_size=5,stride=1,padding=2,padding_mode = 'zeros'),\n",
        "            nn.ReLU(inplace=True),\n",
        "            nn.LocalResponseNorm(5,alpha=0.0001,beta=0.75,k=2),\n",
        "            nn.MaxPool2d(3, stride=2),\n",
        "            nn.Dropout2d(p=0.3),\n",
        "\n",
        "            nn.Conv2d(256,384 , kernel_size=3,stride=1,padding=1),\n",
        "            nn.ReLU(inplace=True),\n",
        "\n",
        "            nn.Conv2d(384,256 , kernel_size=3,stride=1,padding=1),\n",
        "            nn.ReLU(inplace=True),\n",
        "            nn.MaxPool2d(3, stride=2),\n",
        "            nn.Dropout2d(p=0.3),\n",
        "        )\n",
        "        # Defining the fully connected layers\n",
        "        self.fc1 = nn.Sequential(\n",
        "            nn.Linear(30976, 256),\n",
        "            nn.ReLU(inplace=True),\n",
        "            nn.Dropout(p=0.5),\n",
        "\n",
        "            nn.Linear(256, 128),\n",
        "            nn.ReLU(inplace=True),\n",
        "            nn.Dropout(p=0.5),\n",
        "\n",
        "            nn.Linear(128,2))\n",
        "\n",
        "    def forward_once(self, x):\n",
        "        # Forward pass\n",
        "        output = self.cnn1(x)\n",
        "        output = output.view(output.size()[0], -1)\n",
        "        output = self.fc1(output)\n",
        "        return output\n",
        "\n",
        "    def forward(self, input1, input2):\n",
        "        # forward pass of input 1\n",
        "        output1 = self.forward_once(input1)\n",
        "        # forward pass of input 2\n",
        "        output2 = self.forward_once(input2)\n",
        "        return output1, output2"
      ],
      "metadata": {
        "id": "zkSJ_25FC6PT"
      },
      "execution_count": 29,
      "outputs": []
    },
    {
      "cell_type": "code",
      "source": [
        "class ContrastiveLoss(torch.nn.Module):\n",
        "    \"\"\"\n",
        "    Contrastive loss function.\n",
        "    Based on:\n",
        "    \"\"\"\n",
        "\n",
        "    def __init__(self, margin=1.0):\n",
        "        super(ContrastiveLoss, self).__init__()\n",
        "        self.margin = margin\n",
        "\n",
        "    def forward(self, x0, x1, y):\n",
        "        # euclidian distance\n",
        "        diff = x0 - x1\n",
        "        dist_sq = torch.sum(torch.pow(diff, 2), 1)\n",
        "        dist = torch.sqrt(dist_sq)\n",
        "\n",
        "        mdist = self.margin - dist\n",
        "        dist = torch.clamp(mdist, min=0.0)\n",
        "        loss = y * dist_sq + (1 - y) * torch.pow(dist, 2)\n",
        "        loss = torch.sum(loss) / 2.0 / x0.size()[0]\n",
        "        return loss"
      ],
      "metadata": {
        "id": "ZP70yBcgC7Te"
      },
      "execution_count": 30,
      "outputs": []
    },
    {
      "cell_type": "code",
      "source": [
        "val_size = int(0.4 * len(siamese_dataset))\n",
        "test_size = int(0.1 * len(siamese_dataset))\n",
        "train_size = len(siamese_dataset) - val_size - test_size\n",
        "print(test_size)\n",
        "print(val_size)\n",
        "print(train_size)"
      ],
      "metadata": {
        "colab": {
          "base_uri": "https://localhost:8080/"
        },
        "id": "0Y47IYUFC85X",
        "outputId": "6ab92e5b-d950-4113-8a5e-661148f7e93b"
      },
      "execution_count": 31,
      "outputs": [
        {
          "output_type": "stream",
          "name": "stdout",
          "text": [
            "27\n",
            "108\n",
            "136\n"
          ]
        }
      ]
    },
    {
      "cell_type": "code",
      "source": [
        "indices = list(range(len(siamese_dataset)))\n",
        "np.random.shuffle(indices)\n",
        "train_indices = indices[:train_size]\n",
        "val_indices = indices[train_size:train_size + val_size]\n",
        "test_indices = indices[train_size + val_size:]"
      ],
      "metadata": {
        "id": "YgBD4zKJC_Ct"
      },
      "execution_count": 32,
      "outputs": []
    },
    {
      "cell_type": "code",
      "source": [
        "train_sampler = SubsetRandomSampler(train_indices)\n",
        "val_sampler = SubsetRandomSampler(val_indices)\n",
        "test_sampler = SubsetRandomSampler(test_indices)"
      ],
      "metadata": {
        "id": "jApc-9LQDAIM"
      },
      "execution_count": 33,
      "outputs": []
    },
    {
      "cell_type": "code",
      "source": [
        "batch_size = 32"
      ],
      "metadata": {
        "id": "pDZqfhSNDBZT"
      },
      "execution_count": 34,
      "outputs": []
    },
    {
      "cell_type": "code",
      "source": [
        "train_loader = DataLoader(siamese_dataset, batch_size=batch_size, sampler=train_sampler)\n",
        "val_loader = DataLoader(siamese_dataset, batch_size=batch_size, sampler=val_sampler)\n",
        "test_loader = DataLoader(siamese_dataset, batch_size=batch_size, sampler=test_sampler)\n"
      ],
      "metadata": {
        "id": "75_wa3d8DDzk"
      },
      "execution_count": 35,
      "outputs": []
    },
    {
      "cell_type": "code",
      "source": [
        "net = SiameseNetwork().cuda()\n",
        "criterion = ContrastiveLoss()\n",
        "optimizer = optim.Adam(net.parameters(), lr = 0.00005 )"
      ],
      "metadata": {
        "id": "y6mpM7yhDEo_"
      },
      "execution_count": 36,
      "outputs": []
    },
    {
      "cell_type": "code",
      "source": [
        "counter = []\n",
        "train_loss_history = []\n",
        "val_loss_history = []\n",
        "iteration_number = 0\n",
        "\n",
        "def run_epoch(dataloader, train=True):\n",
        "    \"\"\"\n",
        "    Run one epoch of training or validation.\n",
        "\n",
        "    Args:\n",
        "        dataloader (DataLoader): DataLoader for the dataset.\n",
        "        train (bool): Flag indicating whether to perform training or validation.\n",
        "    \"\"\"\n",
        "    global iteration_number\n",
        "    global counter\n",
        "    global train_loss_history\n",
        "    global val_loss_history\n",
        "\n",
        "    # Set the model to training mode if training is True\n",
        "    if train:\n",
        "        net.train()\n",
        "    else:\n",
        "        net.eval()\n",
        "\n",
        "    # Initialize loss for the epoch\n",
        "    epoch_loss = 0.0\n",
        "\n",
        "    # Iterate over batches\n",
        "    for i, (img0, img1, label) in enumerate(dataloader):\n",
        "        # Send the images and labels to CUDA if available\n",
        "        img0, img1, label = img0.cuda(), img1.cuda(), label.cuda()\n",
        "\n",
        "        # Zero the gradients if training\n",
        "        if train:\n",
        "            optimizer.zero_grad()\n",
        "\n",
        "        # Pass the images through the network and obtain outputs\n",
        "        output1, output2 = net(img0, img1)\n",
        "\n",
        "        # Calculate the loss\n",
        "        loss = criterion(output1, output2, label)\n",
        "\n",
        "        # Perform backpropagation and optimization if training\n",
        "        if train:\n",
        "            loss.backward()\n",
        "            optimizer.step()\n",
        "\n",
        "        # Accumulate loss for the epoch\n",
        "        epoch_loss += loss.item()\n",
        "\n",
        "        # Every 10 batches, print the loss and update counters\n",
        "        if i % 10 == 0:\n",
        "            print(f\"Iteration {iteration_number}: {'Training' if train else 'Validation'} Loss: {loss.item()}\")\n",
        "            counter.append(iteration_number)\n",
        "            if train:\n",
        "                train_loss_history.append(loss.item())\n",
        "            else:\n",
        "                val_loss_history.append(loss.item())\n",
        "            iteration_number += 1\n",
        "\n",
        "    # Calculate average loss for the epoch\n",
        "    avg_loss = epoch_loss / len(dataloader)\n",
        "\n",
        "    return avg_loss\n",
        "\n"
      ],
      "metadata": {
        "id": "FNIpOnafDFs8"
      },
      "execution_count": 37,
      "outputs": []
    },
    {
      "cell_type": "code",
      "source": [
        "num_epochs = 2"
      ],
      "metadata": {
        "id": "4uT-CyvUDHT7"
      },
      "execution_count": 42,
      "outputs": []
    },
    {
      "cell_type": "code",
      "source": [
        "# Iterate through epochs\n",
        "for epoch in range(num_epochs):\n",
        "    print(f\"Epoch {epoch + 1}/{num_epochs}\")\n",
        "\n",
        "    # Training phase\n",
        "    train_loss = run_epoch(train_loader, train=True)\n",
        "\n",
        "    # Validation phase\n",
        "    with torch.no_grad():  # Disable gradient calculation during validation\n",
        "        val_loss = run_epoch(val_loader, train=False)\n",
        "\n",
        "    # Print epoch-wise loss\n",
        "    print(f\"Epoch {epoch + 1}/{num_epochs}: Train Loss: {train_loss}, Validation Loss: {val_loss}\")\n",
        "\n",
        "# Print final results\n",
        "print(\"Final Results:\")\n",
        "print(f\"Train Loss: {train_loss_history[-1]}\")\n",
        "print(f\"Validation Loss: {val_loss_history[-1]}\")\n"
      ],
      "metadata": {
        "colab": {
          "base_uri": "https://localhost:8080/"
        },
        "id": "MBbwb9qsD7MM",
        "outputId": "f808d673-8fee-4a9a-ed5a-6cf7b50f1327"
      },
      "execution_count": 43,
      "outputs": [
        {
          "output_type": "stream",
          "name": "stdout",
          "text": [
            "Epoch 1/2\n",
            "Iteration 11: Training Loss: 0.14111082255840302\n",
            "Iteration 12: Validation Loss: 0.45485183596611023\n",
            "Epoch 1/2: Train Loss: 0.2028350755572319, Validation Loss: 0.47164589166641235\n",
            "Epoch 2/2\n",
            "Iteration 13: Training Loss: 0.107393279671669\n",
            "Iteration 14: Validation Loss: 0.48397645354270935\n",
            "Epoch 2/2: Train Loss: 0.09409428462386131, Validation Loss: 0.4797678217291832\n",
            "Final Results:\n",
            "Train Loss: 0.107393279671669\n",
            "Validation Loss: 0.48397645354270935\n"
          ]
        }
      ]
    },
    {
      "cell_type": "code",
      "source": [
        "test_loss = run_epoch(test_loader,train=False)\n",
        "print(f'Average Test Loss: {test_loss:.4f}')"
      ],
      "metadata": {
        "colab": {
          "base_uri": "https://localhost:8080/"
        },
        "id": "Jb_4mb67D8Q2",
        "outputId": "31b2c8da-0443-4bee-c540-44be68e95bcb"
      },
      "execution_count": 44,
      "outputs": [
        {
          "output_type": "stream",
          "name": "stdout",
          "text": [
            "Iteration 15: Validation Loss: 0.48429539799690247\n",
            "Average Test Loss: 0.4843\n"
          ]
        }
      ]
    },
    {
      "cell_type": "code",
      "source": [
        "torch.save(net,'model.pth')"
      ],
      "metadata": {
        "id": "n1z5qqeuD_Rv"
      },
      "execution_count": 45,
      "outputs": []
    },
    {
      "cell_type": "code",
      "source": [
        "torch.save(net.state_dict(),'model_state.pth')"
      ],
      "metadata": {
        "id": "ghLz6dglEL6C"
      },
      "execution_count": 46,
      "outputs": []
    },
    {
      "cell_type": "code",
      "source": [
        "summary(net, input_size=[(1, 100, 100), (1, 100, 100)])  # Assuming input images are 100x100 RGB images"
      ],
      "metadata": {
        "colab": {
          "base_uri": "https://localhost:8080/"
        },
        "id": "60W8VplHENA-",
        "outputId": "cc327ef9-d33d-48e4-930e-2e611350855a"
      },
      "execution_count": 54,
      "outputs": [
        {
          "output_type": "stream",
          "name": "stdout",
          "text": [
            "----------------------------------------------------------------\n",
            "        Layer (type)               Output Shape         Param #\n",
            "================================================================\n",
            "            Conv2d-1         [-1, 96, 100, 100]           7,872\n",
            "              ReLU-2         [-1, 96, 100, 100]               0\n",
            " LocalResponseNorm-3         [-1, 96, 100, 100]               0\n",
            "         MaxPool2d-4           [-1, 96, 49, 49]               0\n",
            "            Conv2d-5          [-1, 256, 49, 49]         614,656\n",
            "              ReLU-6          [-1, 256, 49, 49]               0\n",
            " LocalResponseNorm-7          [-1, 256, 49, 49]               0\n",
            "         MaxPool2d-8          [-1, 256, 24, 24]               0\n",
            "         Dropout2d-9          [-1, 256, 24, 24]               0\n",
            "           Conv2d-10          [-1, 384, 24, 24]         885,120\n",
            "             ReLU-11          [-1, 384, 24, 24]               0\n",
            "           Conv2d-12          [-1, 256, 24, 24]         884,992\n",
            "             ReLU-13          [-1, 256, 24, 24]               0\n",
            "        MaxPool2d-14          [-1, 256, 11, 11]               0\n",
            "        Dropout2d-15          [-1, 256, 11, 11]               0\n",
            "           Linear-16                  [-1, 256]       7,930,112\n",
            "             ReLU-17                  [-1, 256]               0\n",
            "          Dropout-18                  [-1, 256]               0\n",
            "           Linear-19                  [-1, 128]          32,896\n",
            "             ReLU-20                  [-1, 128]               0\n",
            "          Dropout-21                  [-1, 128]               0\n",
            "           Linear-22                    [-1, 2]             258\n",
            "           Conv2d-23         [-1, 96, 100, 100]           7,872\n",
            "             ReLU-24         [-1, 96, 100, 100]               0\n",
            "LocalResponseNorm-25         [-1, 96, 100, 100]               0\n",
            "        MaxPool2d-26           [-1, 96, 49, 49]               0\n",
            "           Conv2d-27          [-1, 256, 49, 49]         614,656\n",
            "             ReLU-28          [-1, 256, 49, 49]               0\n",
            "LocalResponseNorm-29          [-1, 256, 49, 49]               0\n",
            "        MaxPool2d-30          [-1, 256, 24, 24]               0\n",
            "        Dropout2d-31          [-1, 256, 24, 24]               0\n",
            "           Conv2d-32          [-1, 384, 24, 24]         885,120\n",
            "             ReLU-33          [-1, 384, 24, 24]               0\n",
            "           Conv2d-34          [-1, 256, 24, 24]         884,992\n",
            "             ReLU-35          [-1, 256, 24, 24]               0\n",
            "        MaxPool2d-36          [-1, 256, 11, 11]               0\n",
            "        Dropout2d-37          [-1, 256, 11, 11]               0\n",
            "           Linear-38                  [-1, 256]       7,930,112\n",
            "             ReLU-39                  [-1, 256]               0\n",
            "          Dropout-40                  [-1, 256]               0\n",
            "           Linear-41                  [-1, 128]          32,896\n",
            "             ReLU-42                  [-1, 128]               0\n",
            "          Dropout-43                  [-1, 128]               0\n",
            "           Linear-44                    [-1, 2]             258\n",
            "================================================================\n",
            "Total params: 20,711,812\n",
            "Trainable params: 20,711,812\n",
            "Non-trainable params: 0\n",
            "----------------------------------------------------------------\n",
            "Input size (MB): 381.47\n",
            "Forward/backward pass size (MB): 92.31\n",
            "Params size (MB): 79.01\n",
            "Estimated Total Size (MB): 552.79\n",
            "----------------------------------------------------------------\n"
          ]
        }
      ]
    },
    {
      "cell_type": "code",
      "source": [],
      "metadata": {
        "id": "GOjq-qy1HNeC"
      },
      "execution_count": null,
      "outputs": []
    }
  ]
}