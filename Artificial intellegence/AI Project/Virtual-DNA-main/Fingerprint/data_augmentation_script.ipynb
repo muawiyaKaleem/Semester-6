{
 "cells": [
  {
   "cell_type": "code",
   "execution_count": 9,
   "metadata": {},
   "outputs": [],
   "source": [
    "# perfomring necessary imports\n",
    "import os\n",
    "import random\n",
    "from PIL import Image"
   ]
  },
  {
   "cell_type": "code",
   "execution_count": 10,
   "metadata": {},
   "outputs": [],
   "source": [
    "def rotate_image(image_path):\n",
    "    image = Image.open(image_path)\n",
    "    angle = random.randint(45, 180)\n",
    "    rotated_image = image.rotate(angle)\n",
    "    return rotated_image\n"
   ]
  },
  {
   "cell_type": "code",
   "execution_count": 11,
   "metadata": {},
   "outputs": [],
   "source": [
    "def mirror_image(image_path):\n",
    "    image = Image.open(image_path)\n",
    "    mirrored_image = image.transpose(Image.FLIP_LEFT_RIGHT)\n",
    "    return mirrored_image\n"
   ]
  },
  {
   "cell_type": "code",
   "execution_count": 27,
   "metadata": {},
   "outputs": [
    {
     "name": "stdout",
     "output_type": "stream",
     "text": [
      "1 Data/Fingerprint Family (1)\n",
      "2 Data_mirrored/Fingerprint Family (67)\n",
      "3 child.bmp\n",
      "4 Data/Fingerprint Family (1)/child.bmp\n",
      "Data_mirrored/Fingerprint Family (67)/child.bmp\n"
     ]
    },
    {
     "ename": "FileNotFoundError",
     "evalue": "[Errno 2] No such file or directory: 'child.bmp'",
     "output_type": "error",
     "traceback": [
      "\u001b[0;31m---------------------------------------------------------------------------\u001b[0m",
      "\u001b[0;31mFileNotFoundError\u001b[0m                         Traceback (most recent call last)",
      "Cell \u001b[0;32mIn[27], line 43\u001b[0m\n\u001b[1;32m     40\u001b[0m         process_images_in_folder(original_folder, new_folder)\n\u001b[1;32m     42\u001b[0m \u001b[38;5;28;01mif\u001b[39;00m \u001b[38;5;18m__name__\u001b[39m \u001b[38;5;241m==\u001b[39m \u001b[38;5;124m\"\u001b[39m\u001b[38;5;124m__main__\u001b[39m\u001b[38;5;124m\"\u001b[39m:\n\u001b[0;32m---> 43\u001b[0m     \u001b[43mmain\u001b[49m\u001b[43m(\u001b[49m\u001b[43m)\u001b[49m\n",
      "Cell \u001b[0;32mIn[27], line 40\u001b[0m, in \u001b[0;36mmain\u001b[0;34m()\u001b[0m\n\u001b[1;32m     38\u001b[0m new_folder \u001b[38;5;241m=\u001b[39m os\u001b[38;5;241m.\u001b[39mpath\u001b[38;5;241m.\u001b[39mjoin(new_root_folder, \u001b[38;5;124mf\u001b[39m\u001b[38;5;124m\"\u001b[39m\u001b[38;5;124mFingerprint Family (\u001b[39m\u001b[38;5;132;01m{\u001b[39;00mi\u001b[38;5;250m \u001b[39m\u001b[38;5;241m+\u001b[39m\u001b[38;5;250m \u001b[39m\u001b[38;5;241m66\u001b[39m\u001b[38;5;132;01m}\u001b[39;00m\u001b[38;5;124m)\u001b[39m\u001b[38;5;124m\"\u001b[39m)\n\u001b[1;32m     39\u001b[0m \u001b[38;5;28mprint\u001b[39m(\u001b[38;5;124m\"\u001b[39m\u001b[38;5;124m2\u001b[39m\u001b[38;5;124m\"\u001b[39m ,new_folder)\n\u001b[0;32m---> 40\u001b[0m \u001b[43mprocess_images_in_folder\u001b[49m\u001b[43m(\u001b[49m\u001b[43moriginal_folder\u001b[49m\u001b[43m,\u001b[49m\u001b[43m \u001b[49m\u001b[43mnew_folder\u001b[49m\u001b[43m)\u001b[49m\n",
      "Cell \u001b[0;32mIn[27], line 17\u001b[0m, in \u001b[0;36mprocess_images_in_folder\u001b[0;34m(original_folder, new_folder)\u001b[0m\n\u001b[1;32m     14\u001b[0m \u001b[38;5;28;01mif\u001b[39;00m \u001b[38;5;129;01mnot\u001b[39;00m os\u001b[38;5;241m.\u001b[39mpath\u001b[38;5;241m.\u001b[39mexists(new_subdir_path):\n\u001b[1;32m     15\u001b[0m     os\u001b[38;5;241m.\u001b[39mmakedirs(new_subdir_path)\n\u001b[0;32m---> 17\u001b[0m \u001b[38;5;28;01mfor\u001b[39;00m filename \u001b[38;5;129;01min\u001b[39;00m \u001b[43mos\u001b[49m\u001b[38;5;241;43m.\u001b[39;49m\u001b[43mlistdir\u001b[49m\u001b[43m(\u001b[49m\u001b[43msubdir\u001b[49m\u001b[43m)\u001b[49m: \n\u001b[1;32m     18\u001b[0m     \u001b[38;5;28;01mif\u001b[39;00m filename\u001b[38;5;241m.\u001b[39mlower()\u001b[38;5;241m.\u001b[39mendswith((\u001b[38;5;124m'\u001b[39m\u001b[38;5;124m.bmp\u001b[39m\u001b[38;5;124m'\u001b[39m, \u001b[38;5;124m'\u001b[39m\u001b[38;5;124m.jpg\u001b[39m\u001b[38;5;124m'\u001b[39m)):\n\u001b[1;32m     19\u001b[0m         \u001b[38;5;66;03m# Mirror the image and save it in the new folder\u001b[39;00m\n\u001b[1;32m     20\u001b[0m         mirrored_image \u001b[38;5;241m=\u001b[39m mirror_image(subdir_path)\n",
      "\u001b[0;31mFileNotFoundError\u001b[0m: [Errno 2] No such file or directory: 'child.bmp'"
     ]
    }
   ],
   "source": [
    "def process_images_in_folder(original_folder, new_folder):\n",
    "    # Create new folder if it doesn't exist\n",
    "    if not os.path.exists(new_folder):\n",
    "        os.makedirs(new_folder)\n",
    "\n",
    "    # Iterate through each subfolder in the original folder\n",
    "    for subdir in os.listdir(original_folder):\n",
    "        print(\"3\",subdir)\n",
    "        subdir_path = os.path.join(original_folder, subdir)\n",
    "        print(\"4\",subdir_path)\n",
    "\n",
    "        new_subdir_path = os.path.join(new_folder, subdir)\n",
    "        print(new_subdir_path)\n",
    "        if not os.path.exists(new_subdir_path):\n",
    "            os.makedirs(new_subdir_path)\n",
    "\n",
    "        for filename in os.listdir(subdir_path): \n",
    "            if filename.lower().endswith(('.bmp', '.jpg')):\n",
    "                # Mirror the image and save it in the new folder\n",
    "                # mirrored_image = mirror_image(subdir_path)\n",
    "                # new_image_path = os.path.join(new_subdir_path, filename)\n",
    "                # mirrored_image.save(new_subdir_path)\n",
    "            else:\n",
    "                print(f\"Ignoring non-image file: {filename}\")\n",
    "\n",
    "def main():\n",
    "    original_root_folder = \"Data\"\n",
    "    new_root_folder = \"Data_mirrored\"\n",
    "\n",
    "    # Create new root folder if it doesn't exist\n",
    "    if not os.path.exists(new_root_folder):\n",
    "        os.makedirs(new_root_folder)\n",
    "\n",
    "    # Process each original folder and create corresponding mirrored folder\n",
    "    for i in range(1, 66):\n",
    "        original_folder = os.path.join(original_root_folder, f\"Fingerprint Family ({i})\")\n",
    "        print(\"1\" ,original_folder)\n",
    "        new_folder = os.path.join(new_root_folder, f\"Fingerprint Family ({i + 66})\")\n",
    "        print(\"2\" ,new_folder)\n",
    "        process_images_in_folder(original_folder, new_folder)\n",
    "\n",
    "if __name__ == \"__main__\":\n",
    "    main()"
   ]
  },
  {
   "cell_type": "code",
   "execution_count": null,
   "metadata": {},
   "outputs": [],
   "source": []
  },
  {
   "cell_type": "code",
   "execution_count": null,
   "metadata": {},
   "outputs": [],
   "source": []
  }
 ],
 "metadata": {
  "kernelspec": {
   "display_name": "project",
   "language": "python",
   "name": "python3"
  },
  "language_info": {
   "codemirror_mode": {
    "name": "ipython",
    "version": 3
   },
   "file_extension": ".py",
   "mimetype": "text/x-python",
   "name": "python",
   "nbconvert_exporter": "python",
   "pygments_lexer": "ipython3",
   "version": "3.10.12"
  }
 },
 "nbformat": 4,
 "nbformat_minor": 2
}
